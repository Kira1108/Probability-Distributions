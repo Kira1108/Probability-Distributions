{
 "cells": [
  {
   "cell_type": "markdown",
   "metadata": {},
   "source": [
    "### Mixture models / Logistic Regression   \n",
    "\n",
    "Aims to solve implanaced classification problem"
   ]
  },
  {
   "cell_type": "code",
   "execution_count": 14,
   "metadata": {},
   "outputs": [],
   "source": [
    "import seaborn as sns\n",
    "import pandas as pd\n",
    "import numpy as np\n",
    "import matplotlib.pyplot as plt\n",
    "import seaborn as sns\n",
    "from IPython.core.pylabtools import figsize\n",
    "import pymc3 as pm\n",
    "import arviz as az\n",
    "sns.set()"
   ]
  },
  {
   "cell_type": "code",
   "execution_count": 15,
   "metadata": {},
   "outputs": [],
   "source": [
    "df = sns.load_dataset('iris').query(\"species == ('setosa', 'versicolor')\")"
   ]
  },
  {
   "cell_type": "code",
   "execution_count": 23,
   "metadata": {},
   "outputs": [
    {
     "data": {
      "image/png": "[encoded data removed]",
      "text/plain": [
       "<Figure size 432x288 with 1 Axes>"
      ]
     },
     "metadata": {},
     "output_type": "display_data"
    }
   ],
   "source": [
    "x = df['sepal_length'].values\n",
    "y = pd.Categorical(df['species']).codes\n",
    "y = np.concatenate((y, np.ones(6)))\n",
    "x = np.concatenate((x, [4.2, 4.5, 4.0, 4.3, 4.2, 4.4]))\n",
    "\n",
    "plt.scatter(x,y, alpha = 0.4, color = 'k')\n",
    "plt.xlabel('x')\n",
    "plt.ylabel('y')\n",
    "plt.title('Scatter plot x/y')\n",
    "plt.show()"
   ]
  },
  {
   "cell_type": "code",
   "execution_count": 24,
   "metadata": {},
   "outputs": [],
   "source": [
    "x_norm = x - x.mean()"
   ]
  },
  {
   "cell_type": "markdown",
   "metadata": {},
   "source": [
    "Now that you centrlized x to x_norm, regress a logistic function against y ~ x_norm   \n",
    "such that $y ~ \\frac{1}{1 + e^{-(\\alpha + \\beta xnorm)}}$                  \n",
    "then: $y ~ \\frac{1}{1 + e^{-(\\alpha - \\beta x_mean + \\beta x)}}$               \n",
    "True alpha = alpha - beta * x_mean"
   ]
  },
  {
   "cell_type": "code",
   "execution_count": null,
   "metadata": {},
   "outputs": [],
   "source": [
    "with pm.Model() as model:\n",
    "    alpha_alt = pm.Normal('alpha_alt',mu = 0, sigma = 100)\n",
    "    beta = pm.Normal('beta', mu = 0, sd = 10)\n",
    "    \n",
    "    mu = pm.Deterministic('mu', alpha_alt + beta* x)\n",
    "    psi = pm.Beta('psi',1,1)\n",
    "    p = pm.Deterministic('p', )\n",
    "    "
   ]
  }
 ],
 "metadata": {
  "kernelspec": {
   "display_name": "Python 3",
   "language": "python",
   "name": "python3"
  },
  "language_info": {
   "codemirror_mode": {
    "name": "ipython",
    "version": 3
   },
   "file_extension": ".py",
   "mimetype": "text/x-python",
   "name": "python",
   "nbconvert_exporter": "python",
   "pygments_lexer": "ipython3",
   "version": "3.8.3"
  }
 },
 "nbformat": 4,
 "nbformat_minor": 4
}
