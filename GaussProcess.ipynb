{
 "cells": [
  {
   "cell_type": "markdown",
   "metadata": {},
   "source": [
    "# Gauss Process\n",
    "\n",
    "For **every xi** value there is a **yi** value that is **Gaussian distributed**.            \n",
    "With a an **unknown mean** and **unknown standard deviation**                         \n",
    "If vector $x$ has length n, then we have **n-multivariate gaussian distribution**  \n",
    "\n",
    "For real valued function. We have infinite multivariate gaussian.     \n",
    "That mathematical object is known as Gaussian Process and is parameterized with a **mean function** and **covariance function**\n",
    "\n",
    "$f(x) \\sim GP(\\mu(x), K(x,x'))$    \n",
    "\n",
    "\n",
    "### Estimate the function directly\n",
    "\n",
    "$y = f(x) + \\epsilon$, x, y are given data       \n",
    "$p(f|x)$, want to estiamte f          \n"
   ]
  },
  {
   "cell_type": "code",
   "execution_count": null,
   "metadata": {},
   "outputs": [],
   "source": []
  },
  {
   "cell_type": "code",
   "execution_count": null,
   "metadata": {},
   "outputs": [],
   "source": []
  }
 ],
 "metadata": {
  "kernelspec": {
   "display_name": "Python 3",
   "language": "python",
   "name": "python3"
  },
  "language_info": {
   "codemirror_mode": {
    "name": "ipython",
    "version": 3
   },
   "file_extension": ".py",
   "mimetype": "text/x-python",
   "name": "python",
   "nbconvert_exporter": "python",
   "pygments_lexer": "ipython3",
   "version": "3.8.3"
  }
 },
 "nbformat": 4,
 "nbformat_minor": 4
}
